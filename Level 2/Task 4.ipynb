{
 "cells": [
  {
   "cell_type": "code",
   "execution_count": 4,
   "id": "1b14bc5b-16ff-41b2-8299-65dd70e65c34",
   "metadata": {},
   "outputs": [
    {
     "data": {
      "text/plain": [
       "(9551, 21)"
      ]
     },
     "execution_count": 4,
     "metadata": {},
     "output_type": "execute_result"
    }
   ],
   "source": [
    "# Task 4 RESTAURANT CHAINS\n",
    "# identify if there are any restaurant chains present int the dataset\n",
    "\n",
    "import pandas as pd\n",
    "import seaborn as sns\n",
    "import matplotlib.pyplot as plt\n",
    "\n",
    "#load the dataset\n",
    "df = pd.read_csv(r\"C:\\Users\\Acer\\Downloads\\Dataset.csv\")\n",
    "df.shape"
   ]
  },
  {
   "cell_type": "code",
   "execution_count": 6,
   "id": "1036ece6-c046-4750-97f9-f2215a213184",
   "metadata": {},
   "outputs": [
    {
     "name": "stdout",
     "output_type": "stream",
     "text": [
      "Potential restaurant chains: Restaurant Name\n",
      "Cafe Coffee Day                 83\n",
      "Domino's Pizza                  79\n",
      "Subway                          63\n",
      "Green Chick Chop                51\n",
      "McDonald's                      48\n",
      "                                ..\n",
      "Aggarwal Sweets & Restaurant     2\n",
      "Aggarwal Sweet & Bakers          2\n",
      "Aggarwal Bikaneri Sweets         2\n",
      "Adyar Ananda Bhavan              2\n",
      "Adarsh Kulfi                     2\n",
      "Name: Address, Length: 734, dtype: int64\n"
     ]
    }
   ],
   "source": [
    "# group by restaurant name & count unique locations\n",
    "chain_check = df.groupby('Restaurant Name')['Address'].nunique()\n",
    "\n",
    "# filter names that appear in multiple locations\n",
    "chains = chain_check[chain_check > 1].sort_values(ascending = False)\n",
    "print('Potential restaurant chains:',chains)"
   ]
  },
  {
   "cell_type": "code",
   "execution_count": 7,
   "id": "3eda8d5b-3f3c-423b-a393-e633173dffee",
   "metadata": {},
   "outputs": [
    {
     "name": "stdout",
     "output_type": "stream",
     "text": [
      "Top restaurant chains by popularity:                            Average rating  Total votes  Location count\n",
      "Restaurant Name                                                       \n",
      "Barbeque Nation                  4.353846        28142              26\n",
      "AB's - Absolute Barbecues        4.825000        13400               4\n",
      "Big Chill                        4.475000        10853               4\n",
      "Farzi Cafe                       4.366667        10098               6\n",
      "Truffles                         3.950000         9682               2\n",
      "Chili's                          4.580000         8156               5\n",
      "Joey's Pizza                     4.250000         7807               2\n",
      "Big Yellow Door                  4.266667         7511               3\n",
      "Saravana Bhavan                  4.133333         7238               3\n",
      "Starbucks                        3.805556         7139              18\n"
     ]
    }
   ],
   "source": [
    "# Analyze the ratings & popularity of different restaurant chains\n",
    "\n",
    "chain = chain_check[chain_check > 1].index\n",
    "# filter only chain restaurants\n",
    "chain_df = df[df['Restaurant Name'].isin(chain)]\n",
    "\n",
    "# group by chain name & analyze ratings,popularity\n",
    "chain_analysis = chain_df.groupby('Restaurant Name').agg({'Aggregate rating':'mean',\n",
    "                                                          'Votes':'sum',\n",
    "                                                          'Address':'nunique'}).rename(columns=\n",
    "                                                                                       {'Aggregate rating':'Average rating',\n",
    "                                                                                       'Votes':'Total votes',\n",
    "                                                                                       'Address':'Location count'}).sort_values(by='Total votes',\n",
    "                                                                                                                                ascending = False)\n",
    "print('Top restaurant chains by popularity:',chain_analysis.head(10))"
   ]
  },
  {
   "cell_type": "code",
   "execution_count": null,
   "id": "dadbeb8b-b329-4d17-90ab-ba1d5ecd734e",
   "metadata": {},
   "outputs": [],
   "source": []
  }
 ],
 "metadata": {
  "kernelspec": {
   "display_name": "Python 3 (ipykernel)",
   "language": "python",
   "name": "python3"
  },
  "language_info": {
   "codemirror_mode": {
    "name": "ipython",
    "version": 3
   },
   "file_extension": ".py",
   "mimetype": "text/x-python",
   "name": "python",
   "nbconvert_exporter": "python",
   "pygments_lexer": "ipython3",
   "version": "3.13.5"
  }
 },
 "nbformat": 4,
 "nbformat_minor": 5
}
