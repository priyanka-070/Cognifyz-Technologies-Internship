{
 "cells": [
  {
   "cell_type": "code",
   "execution_count": 1,
   "id": "09b0254c-e140-492b-a9c5-5f41d5c12643",
   "metadata": {},
   "outputs": [
    {
     "data": {
      "text/plain": [
       "(9551, 21)"
      ]
     },
     "execution_count": 1,
     "metadata": {},
     "output_type": "execute_result"
    }
   ],
   "source": [
    "# Task 2 CUISINE COMBINATION\n",
    "# identify the most common combinations of cuisines in the dataset.\n",
    "\n",
    "import pandas as pd\n",
    "import seaborn as sns\n",
    "import matplotlib.pyplot as plt\n",
    "\n",
    "#load the dataset\n",
    "df = pd.read_csv(r\"C:\\Users\\Acer\\Downloads\\Dataset.csv\")\n",
    "df.shape"
   ]
  },
  {
   "cell_type": "code",
   "execution_count": 4,
   "id": "3ec20033-f0d9-4800-a2b3-5f1245f7cf64",
   "metadata": {},
   "outputs": [
    {
     "name": "stdout",
     "output_type": "stream",
     "text": [
      "Top 10 most common cuisine combinations: Cuisines\n",
      "North Indian                      936\n",
      "North Indian, Chinese             511\n",
      "Chinese                           354\n",
      "Fast Food                         354\n",
      "North Indian, Mughlai             334\n",
      "Cafe                              299\n",
      "Bakery                            218\n",
      "North Indian, Mughlai, Chinese    197\n",
      "Bakery, Desserts                  170\n",
      "Street Food                       149\n",
      "Name: count, dtype: int64\n"
     ]
    }
   ],
   "source": [
    "# drop missing cuisine data\n",
    "df_clean = df[df['Cuisines'].notnull()]\n",
    "\n",
    "# count the most common cuisine combinations\n",
    "top_combinations = df_clean['Cuisines'].value_counts().head(10)\n",
    "print('Top 10 most common cuisine combinations:',top_combinations)"
   ]
  },
  {
   "cell_type": "code",
   "execution_count": 5,
   "id": "413d071c-84c4-46ff-97ec-c9c5b13119cb",
   "metadata": {},
   "outputs": [
    {
     "name": "stdout",
     "output_type": "stream",
     "text": [
      "Top 10 cuisine combinations by average rating: Cuisines\n",
      "Burger, Bar Food, Steak                 4.9\n",
      "American, Burger, Grill                 4.9\n",
      "American, Caribbean, Seafood            4.9\n",
      "American, Coffee and Tea                4.9\n",
      "Mexican, American, Healthy Food         4.9\n",
      "                                       ... \n",
      "Tibetan, South Indian, North Indian     0.0\n",
      "Afghani, Mughlai, Chinese               0.0\n",
      "Tibetan                                 0.0\n",
      "Turkish, Arabian, Moroccan, Lebanese    0.0\n",
      "Tibetan, Chinese, North Indian          0.0\n",
      "Name: Aggregate rating, Length: 1825, dtype: float64\n"
     ]
    }
   ],
   "source": [
    "# determine if certain cuisine combinations tend to have higher ratings\n",
    "\n",
    "avg_rating_by_cuisine = (df_clean.groupby('Cuisines')['Aggregate rating'].mean().sort_values(ascending = False))\n",
    "print('Top 10 cuisine combinations by average rating:',avg_rating_by_cuisine)"
   ]
  }
 ],
 "metadata": {
  "kernelspec": {
   "display_name": "Python 3 (ipykernel)",
   "language": "python",
   "name": "python3"
  },
  "language_info": {
   "codemirror_mode": {
    "name": "ipython",
    "version": 3
   },
   "file_extension": ".py",
   "mimetype": "text/x-python",
   "name": "python",
   "nbconvert_exporter": "python",
   "pygments_lexer": "ipython3",
   "version": "3.13.5"
  }
 },
 "nbformat": 4,
 "nbformat_minor": 5
}
