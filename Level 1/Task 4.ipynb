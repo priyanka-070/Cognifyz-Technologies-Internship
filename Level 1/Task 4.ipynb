{
 "cells": [
  {
   "cell_type": "code",
   "execution_count": 5,
   "id": "282faf8f-2bea-4a85-ae5c-0c741d46ec32",
   "metadata": {},
   "outputs": [
    {
     "data": {
      "text/plain": [
       "(9551, 21)"
      ]
     },
     "execution_count": 5,
     "metadata": {},
     "output_type": "execute_result"
    }
   ],
   "source": [
    "# Task 4 ONLINE DELIVERY\n",
    "# Determine the percentage of restaurants that offer online delivery.\n",
    "\n",
    "import pandas as pd\n",
    "\n",
    "df = pd.read_csv(r\"C:\\Users\\Acer\\Downloads\\Dataset.csv\")\n",
    "df.shape"
   ]
  },
  {
   "cell_type": "code",
   "execution_count": 8,
   "id": "f2966c82-1bd3-47d4-99c9-99e320119bd1",
   "metadata": {},
   "outputs": [
    {
     "name": "stdout",
     "output_type": "stream",
     "text": [
      "Percentage of restaurants that offer online delivery:\n",
      " 25.662234%\n"
     ]
    }
   ],
   "source": [
    "# normalize to get percentages\n",
    "\n",
    "delivery_pct = df['Has Online delivery'].value_counts(normalize = True)*100\n",
    "print(f\"Percentage of restaurants that offer online delivery:\\n {delivery_pct.get('Yes',0):2f}%\")"
   ]
  },
  {
   "cell_type": "code",
   "execution_count": 9,
   "id": "7cd1f9a3-ffd0-40dd-b70b-2c6b511e7ff8",
   "metadata": {},
   "outputs": [
    {
     "name": "stdout",
     "output_type": "stream",
     "text": [
      "Average ratings by online delivery availability : Has Online delivery\n",
      "No     2.47\n",
      "Yes    3.25\n",
      "Name: Aggregate rating, dtype: float64\n"
     ]
    }
   ],
   "source": [
    "# compare the average ratings of restaurants with and without online delivery\n",
    "\n",
    "avg_ratings = df.groupby('Has Online delivery')['Aggregate rating'].mean()\n",
    "print('Average ratings by online delivery availability :',avg_ratings.round(2))"
   ]
  }
 ],
 "metadata": {
  "kernelspec": {
   "display_name": "Python 3 (ipykernel)",
   "language": "python",
   "name": "python3"
  },
  "language_info": {
   "codemirror_mode": {
    "name": "ipython",
    "version": 3
   },
   "file_extension": ".py",
   "mimetype": "text/x-python",
   "name": "python",
   "nbconvert_exporter": "python",
   "pygments_lexer": "ipython3",
   "version": "3.13.5"
  }
 },
 "nbformat": 4,
 "nbformat_minor": 5
}
