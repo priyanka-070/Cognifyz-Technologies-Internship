{
 "cells": [
  {
   "cell_type": "code",
   "execution_count": 6,
   "id": "eb6522e6-78af-4198-b823-1920d02b9a84",
   "metadata": {},
   "outputs": [
    {
     "data": {
      "text/plain": [
       "(9551, 21)"
      ]
     },
     "execution_count": 6,
     "metadata": {},
     "output_type": "execute_result"
    }
   ],
   "source": [
    "# Task 2 CITY ANALYSIS\n",
    "# Identify the city with the highest number of restuarants in the dataset.\n",
    "\n",
    "import pandas as pd\n",
    "\n",
    "df = pd.read_csv(r\"C:\\Users\\Acer\\Downloads\\Dataset.csv\")\n",
    "df.shape"
   ]
  },
  {
   "cell_type": "code",
   "execution_count": 15,
   "id": "3b772dba-3787-4e38-9e2d-5dfc40e2e3d4",
   "metadata": {},
   "outputs": [
    {
     "name": "stdout",
     "output_type": "stream",
     "text": [
      "The city with the highest number of restaurants is:\n",
      " New Delhi (5473 restaurants)\n"
     ]
    }
   ],
   "source": [
    "# count the number of restaurants per city\n",
    "city_counts = df['City'].value_counts()\n",
    "\n",
    "# get city with the highest number of restaurants\n",
    "top_city = city_counts.idxmax()\n",
    "top_count = city_counts.max()\n",
    "print(f\"The city with the highest number of restaurants is:\\n {top_city} ({top_count} restaurants)\")"
   ]
  },
  {
   "cell_type": "code",
   "execution_count": 17,
   "id": "d8ea3416-b7d3-4828-85a4-06a4987a2788",
   "metadata": {},
   "outputs": [
    {
     "name": "stdout",
     "output_type": "stream",
     "text": [
      "Average restaurant rating by city: City\n",
      "Inner City          4.900000\n",
      "Quezon City         4.800000\n",
      "Makati City         4.650000\n",
      "Pasig City          4.633333\n",
      "Mandaluyong City    4.625000\n",
      "                      ...   \n",
      "New Delhi           2.438845\n",
      "Montville           2.400000\n",
      "Mc Millan           2.400000\n",
      "Noida               2.036204\n",
      "Faridabad           1.866932\n",
      "Name: Aggregate rating, Length: 141, dtype: float64\n"
     ]
    }
   ],
   "source": [
    "# Calculate the average rating for restaurants in each city\n",
    "\n",
    "# convert ratings to numeric in case of strings and drop missing values\n",
    "df['Aggregate rating'] = pd.to_numeric(df['Aggregate rating'],errors = 'coerce')\n",
    "df = df.dropna(subset = ['Aggregate rating'])\n",
    "\n",
    "# calculate average rating\n",
    "avg_rating = df.groupby('City')['Aggregate rating'].mean().sort_values(ascending = False)\n",
    "print('Average restaurant rating by city:',avg_rating)"
   ]
  },
  {
   "cell_type": "code",
   "execution_count": 19,
   "id": "c83b4376-8ecf-48ec-af68-92806fac4cb7",
   "metadata": {},
   "outputs": [
    {
     "name": "stdout",
     "output_type": "stream",
     "text": [
      "the city with the highest average restaurant rating is:\n",
      " Inner City (4.900000)\n"
     ]
    }
   ],
   "source": [
    "# Determine the city with the highest average rating\n",
    "\n",
    "top_city = avg_rating.idxmax()\n",
    "top_rating = avg_rating.max()\n",
    "print(f\"the city with the highest average restaurant rating is:\\n {top_city} ({top_rating:2f})\")"
   ]
  }
 ],
 "metadata": {
  "kernelspec": {
   "display_name": "Python 3 (ipykernel)",
   "language": "python",
   "name": "python3"
  },
  "language_info": {
   "codemirror_mode": {
    "name": "ipython",
    "version": 3
   },
   "file_extension": ".py",
   "mimetype": "text/x-python",
   "name": "python",
   "nbconvert_exporter": "python",
   "pygments_lexer": "ipython3",
   "version": "3.13.5"
  }
 },
 "nbformat": 4,
 "nbformat_minor": 5
}
