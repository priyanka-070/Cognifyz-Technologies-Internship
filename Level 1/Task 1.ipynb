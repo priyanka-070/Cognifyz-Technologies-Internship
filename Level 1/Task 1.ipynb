{
 "cells": [
  {
   "cell_type": "code",
   "execution_count": 4,
   "id": "858739fa-2b24-439d-99d8-d87677166933",
   "metadata": {},
   "outputs": [
    {
     "data": {
      "text/plain": [
       "(9551, 21)"
      ]
     },
     "execution_count": 4,
     "metadata": {},
     "output_type": "execute_result"
    }
   ],
   "source": [
    "# Task 1 TOP CUISINES\n",
    "# Determine the top three most common cuisines in the dataset\n",
    "\n",
    "import pandas as pd\n",
    "\n",
    "#load the dataset\n",
    "df = pd.read_csv(r\"C:\\Users\\Acer\\Downloads\\Dataset.csv\")\n",
    "df.shape"
   ]
  },
  {
   "cell_type": "code",
   "execution_count": 5,
   "id": "ee0ee12e-a80d-40e2-b8c1-d9117a589b1b",
   "metadata": {},
   "outputs": [
    {
     "name": "stdout",
     "output_type": "stream",
     "text": [
      "Top 3 most common cuisines: Cuisines\n",
      "North Indian             936\n",
      "North Indian, Chinese    511\n",
      "Chinese                  354\n",
      "Name: count, dtype: int64\n"
     ]
    }
   ],
   "source": [
    "#count the frequency of each cuisine\n",
    "cuisine_counts = df['Cuisines'].value_counts()\n",
    "\n",
    "#get top 3 most common cuisines\n",
    "top_3_cuisines = cuisine_counts.head(3)\n",
    "print('Top 3 most common cuisines:',top_3_cuisines)"
   ]
  },
  {
   "cell_type": "code",
   "execution_count": 8,
   "id": "41fc7ee4-0626-4f7c-bf7f-6c6392d237eb",
   "metadata": {},
   "outputs": [
    {
     "name": "stdout",
     "output_type": "stream",
     "text": [
      "Top 3 cuisines by percentage of restaurants:\n",
      "                  Cuisine  Percentage\n",
      "0           North Indian    9.800021\n",
      "1  North Indian, Chinese    5.350225\n",
      "2                Chinese    3.706418\n"
     ]
    }
   ],
   "source": [
    "# Calculate the percentage of restaurants that serve each of the top cuisines\n",
    "\n",
    "total_restaurants = len(df)\n",
    "top_3_percentages = (top_3_cuisines / total_restaurants)*100\n",
    "result = pd.DataFrame({'Cuisine':top_3_percentages.index,'Percentage':top_3_percentages.values})\n",
    "print('Top 3 cuisines by percentage of restaurants:\\n',result)"
   ]
  }
 ],
 "metadata": {
  "kernelspec": {
   "display_name": "Python 3 (ipykernel)",
   "language": "python",
   "name": "python3"
  },
  "language_info": {
   "codemirror_mode": {
    "name": "ipython",
    "version": 3
   },
   "file_extension": ".py",
   "mimetype": "text/x-python",
   "name": "python",
   "nbconvert_exporter": "python",
   "pygments_lexer": "ipython3",
   "version": "3.13.5"
  }
 },
 "nbformat": 4,
 "nbformat_minor": 5
}
